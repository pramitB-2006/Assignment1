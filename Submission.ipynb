{
 "cells": [
  {
   "cell_type": "code",
   "execution_count": 13,
   "metadata": {
    "id": "OO9q8bTtpWLW"
   },
   "outputs": [],
   "source": [
    "import pandas as pd\n",
    "import numpy as np"
   ]
  },
  {
   "cell_type": "markdown",
   "metadata": {
    "id": "45XA-eoBfqk4"
   },
   "source": [
    "# Part 1"
   ]
  },
  {
   "cell_type": "markdown",
   "metadata": {
    "id": "RW689xW79f2t"
   },
   "source": [
    "## Loading the Datset"
   ]
  },
  {
   "cell_type": "markdown",
   "metadata": {
    "id": "ou56fPEM9N9M"
   },
   "source": [
    "Importing the csv into the project as a DataFrame"
   ]
  },
  {
   "cell_type": "code",
   "execution_count": 14,
   "metadata": {
    "id": "Me-X4M2ypiO6"
   },
   "outputs": [],
   "source": [
    "df = pd.read_csv(\"sample-data/california_housing_train.csv\")"
   ]
  },
  {
   "cell_type": "code",
   "execution_count": 15,
   "metadata": {
    "colab": {
     "base_uri": "https://localhost:8080/"
    },
    "id": "loVrzan0zlvH",
    "outputId": "f2972bb9-11d4-42d5-afa3-61d6c8c17f93"
   },
   "outputs": [
    {
     "name": "stdout",
     "output_type": "stream",
     "text": [
      "       longitude  latitude  housing_median_age  total_rooms  total_bedrooms  \\\n",
      "0        -114.31     34.19                15.0       5612.0          1283.0   \n",
      "1        -114.47     34.40                19.0       7650.0          1901.0   \n",
      "2        -114.56     33.69                17.0        720.0           174.0   \n",
      "3        -114.57     33.64                14.0       1501.0           337.0   \n",
      "4        -114.57     33.57                20.0       1454.0           326.0   \n",
      "...          ...       ...                 ...          ...             ...   \n",
      "16995    -124.26     40.58                52.0       2217.0           394.0   \n",
      "16996    -124.27     40.69                36.0       2349.0           528.0   \n",
      "16997    -124.30     41.84                17.0       2677.0           531.0   \n",
      "16998    -124.30     41.80                19.0       2672.0           552.0   \n",
      "16999    -124.35     40.54                52.0       1820.0           300.0   \n",
      "\n",
      "       population  households  median_income  median_house_value  \n",
      "0          1015.0       472.0         1.4936             66900.0  \n",
      "1          1129.0       463.0         1.8200             80100.0  \n",
      "2           333.0       117.0         1.6509             85700.0  \n",
      "3           515.0       226.0         3.1917             73400.0  \n",
      "4           624.0       262.0         1.9250             65500.0  \n",
      "...           ...         ...            ...                 ...  \n",
      "16995       907.0       369.0         2.3571            111400.0  \n",
      "16996      1194.0       465.0         2.5179             79000.0  \n",
      "16997      1244.0       456.0         3.0313            103600.0  \n",
      "16998      1298.0       478.0         1.9797             85800.0  \n",
      "16999       806.0       270.0         3.0147             94600.0  \n",
      "\n",
      "[17000 rows x 9 columns]\n"
     ]
    }
   ],
   "source": [
    "print(df)"
   ]
  },
  {
   "cell_type": "markdown",
   "metadata": {
    "id": "vKC1-8tD9vc5"
   },
   "source": [
    "Printing the first 5 and last 10 rows of the DataFrame"
   ]
  },
  {
   "cell_type": "code",
   "execution_count": 16,
   "metadata": {
    "colab": {
     "base_uri": "https://localhost:8080/"
    },
    "id": "FT1JGZkQ1pJe",
    "outputId": "d6f8b10d-f1f4-469c-e0a2-bc97cd36bf26"
   },
   "outputs": [
    {
     "name": "stdout",
     "output_type": "stream",
     "text": [
      "       longitude  latitude  housing_median_age  total_rooms  total_bedrooms  \\\n",
      "0        -114.31     34.19                15.0       5612.0          1283.0   \n",
      "1        -114.47     34.40                19.0       7650.0          1901.0   \n",
      "2        -114.56     33.69                17.0        720.0           174.0   \n",
      "3        -114.57     33.64                14.0       1501.0           337.0   \n",
      "4        -114.57     33.57                20.0       1454.0           326.0   \n",
      "16990    -124.22     41.73                28.0       3003.0           699.0   \n",
      "16991    -124.23     41.75                11.0       3159.0           616.0   \n",
      "16992    -124.23     40.81                52.0       1112.0           209.0   \n",
      "16993    -124.23     40.54                52.0       2694.0           453.0   \n",
      "16994    -124.25     40.28                32.0       1430.0           419.0   \n",
      "16995    -124.26     40.58                52.0       2217.0           394.0   \n",
      "16996    -124.27     40.69                36.0       2349.0           528.0   \n",
      "16997    -124.30     41.84                17.0       2677.0           531.0   \n",
      "16998    -124.30     41.80                19.0       2672.0           552.0   \n",
      "16999    -124.35     40.54                52.0       1820.0           300.0   \n",
      "\n",
      "       population  households  median_income  median_house_value  \n",
      "0          1015.0       472.0         1.4936             66900.0  \n",
      "1          1129.0       463.0         1.8200             80100.0  \n",
      "2           333.0       117.0         1.6509             85700.0  \n",
      "3           515.0       226.0         3.1917             73400.0  \n",
      "4           624.0       262.0         1.9250             65500.0  \n",
      "16990      1530.0       653.0         1.7038             78300.0  \n",
      "16991      1343.0       479.0         2.4805             73200.0  \n",
      "16992       544.0       172.0         3.3462             50800.0  \n",
      "16993      1152.0       435.0         3.0806            106700.0  \n",
      "16994       434.0       187.0         1.9417             76100.0  \n",
      "16995       907.0       369.0         2.3571            111400.0  \n",
      "16996      1194.0       465.0         2.5179             79000.0  \n",
      "16997      1244.0       456.0         3.0313            103600.0  \n",
      "16998      1298.0       478.0         1.9797             85800.0  \n",
      "16999       806.0       270.0         3.0147             94600.0  \n"
     ]
    }
   ],
   "source": [
    "df2 = pd.DataFrame()\n",
    "df2 = pd.concat([df.head(5),df.tail(10)],ignore_index=False)\n",
    "print(df2)"
   ]
  },
  {
   "cell_type": "markdown",
   "metadata": {
    "id": "hk5PHYtu96IE"
   },
   "source": [
    "## Data Summary"
   ]
  },
  {
   "cell_type": "markdown",
   "metadata": {
    "id": "3RbLWPfc9_e5"
   },
   "source": [
    "Using describe to give an analysis of all the numerical columns"
   ]
  },
  {
   "cell_type": "code",
   "execution_count": 17,
   "metadata": {
    "colab": {
     "base_uri": "https://localhost:8080/",
     "height": 300
    },
    "id": "iiBd9Yvt23gK",
    "outputId": "67ee9846-a178-4581-bc7c-32724e8aa76f"
   },
   "outputs": [
    {
     "data": {
      "text/html": [
       "<div>\n",
       "<style scoped>\n",
       "    .dataframe tbody tr th:only-of-type {\n",
       "        vertical-align: middle;\n",
       "    }\n",
       "\n",
       "    .dataframe tbody tr th {\n",
       "        vertical-align: top;\n",
       "    }\n",
       "\n",
       "    .dataframe thead th {\n",
       "        text-align: right;\n",
       "    }\n",
       "</style>\n",
       "<table border=\"1\" class=\"dataframe\">\n",
       "  <thead>\n",
       "    <tr style=\"text-align: right;\">\n",
       "      <th></th>\n",
       "      <th>longitude</th>\n",
       "      <th>latitude</th>\n",
       "      <th>housing_median_age</th>\n",
       "      <th>total_rooms</th>\n",
       "      <th>total_bedrooms</th>\n",
       "      <th>population</th>\n",
       "      <th>households</th>\n",
       "      <th>median_income</th>\n",
       "      <th>median_house_value</th>\n",
       "    </tr>\n",
       "  </thead>\n",
       "  <tbody>\n",
       "    <tr>\n",
       "      <th>count</th>\n",
       "      <td>17000.000000</td>\n",
       "      <td>17000.000000</td>\n",
       "      <td>17000.000000</td>\n",
       "      <td>17000.000000</td>\n",
       "      <td>17000.000000</td>\n",
       "      <td>17000.000000</td>\n",
       "      <td>17000.000000</td>\n",
       "      <td>17000.000000</td>\n",
       "      <td>17000.000000</td>\n",
       "    </tr>\n",
       "    <tr>\n",
       "      <th>mean</th>\n",
       "      <td>-119.562108</td>\n",
       "      <td>35.625225</td>\n",
       "      <td>28.589353</td>\n",
       "      <td>2643.664412</td>\n",
       "      <td>539.410824</td>\n",
       "      <td>1429.573941</td>\n",
       "      <td>501.221941</td>\n",
       "      <td>3.883578</td>\n",
       "      <td>207300.912353</td>\n",
       "    </tr>\n",
       "    <tr>\n",
       "      <th>std</th>\n",
       "      <td>2.005166</td>\n",
       "      <td>2.137340</td>\n",
       "      <td>12.586937</td>\n",
       "      <td>2179.947071</td>\n",
       "      <td>421.499452</td>\n",
       "      <td>1147.852959</td>\n",
       "      <td>384.520841</td>\n",
       "      <td>1.908157</td>\n",
       "      <td>115983.764387</td>\n",
       "    </tr>\n",
       "    <tr>\n",
       "      <th>min</th>\n",
       "      <td>-124.350000</td>\n",
       "      <td>32.540000</td>\n",
       "      <td>1.000000</td>\n",
       "      <td>2.000000</td>\n",
       "      <td>1.000000</td>\n",
       "      <td>3.000000</td>\n",
       "      <td>1.000000</td>\n",
       "      <td>0.499900</td>\n",
       "      <td>14999.000000</td>\n",
       "    </tr>\n",
       "    <tr>\n",
       "      <th>25%</th>\n",
       "      <td>-121.790000</td>\n",
       "      <td>33.930000</td>\n",
       "      <td>18.000000</td>\n",
       "      <td>1462.000000</td>\n",
       "      <td>297.000000</td>\n",
       "      <td>790.000000</td>\n",
       "      <td>282.000000</td>\n",
       "      <td>2.566375</td>\n",
       "      <td>119400.000000</td>\n",
       "    </tr>\n",
       "    <tr>\n",
       "      <th>50%</th>\n",
       "      <td>-118.490000</td>\n",
       "      <td>34.250000</td>\n",
       "      <td>29.000000</td>\n",
       "      <td>2127.000000</td>\n",
       "      <td>434.000000</td>\n",
       "      <td>1167.000000</td>\n",
       "      <td>409.000000</td>\n",
       "      <td>3.544600</td>\n",
       "      <td>180400.000000</td>\n",
       "    </tr>\n",
       "    <tr>\n",
       "      <th>75%</th>\n",
       "      <td>-118.000000</td>\n",
       "      <td>37.720000</td>\n",
       "      <td>37.000000</td>\n",
       "      <td>3151.250000</td>\n",
       "      <td>648.250000</td>\n",
       "      <td>1721.000000</td>\n",
       "      <td>605.250000</td>\n",
       "      <td>4.767000</td>\n",
       "      <td>265000.000000</td>\n",
       "    </tr>\n",
       "    <tr>\n",
       "      <th>max</th>\n",
       "      <td>-114.310000</td>\n",
       "      <td>41.950000</td>\n",
       "      <td>52.000000</td>\n",
       "      <td>37937.000000</td>\n",
       "      <td>6445.000000</td>\n",
       "      <td>35682.000000</td>\n",
       "      <td>6082.000000</td>\n",
       "      <td>15.000100</td>\n",
       "      <td>500001.000000</td>\n",
       "    </tr>\n",
       "  </tbody>\n",
       "</table>\n",
       "</div>"
      ],
      "text/plain": [
       "          longitude      latitude  housing_median_age   total_rooms  \\\n",
       "count  17000.000000  17000.000000        17000.000000  17000.000000   \n",
       "mean    -119.562108     35.625225           28.589353   2643.664412   \n",
       "std        2.005166      2.137340           12.586937   2179.947071   \n",
       "min     -124.350000     32.540000            1.000000      2.000000   \n",
       "25%     -121.790000     33.930000           18.000000   1462.000000   \n",
       "50%     -118.490000     34.250000           29.000000   2127.000000   \n",
       "75%     -118.000000     37.720000           37.000000   3151.250000   \n",
       "max     -114.310000     41.950000           52.000000  37937.000000   \n",
       "\n",
       "       total_bedrooms    population    households  median_income  \\\n",
       "count    17000.000000  17000.000000  17000.000000   17000.000000   \n",
       "mean       539.410824   1429.573941    501.221941       3.883578   \n",
       "std        421.499452   1147.852959    384.520841       1.908157   \n",
       "min          1.000000      3.000000      1.000000       0.499900   \n",
       "25%        297.000000    790.000000    282.000000       2.566375   \n",
       "50%        434.000000   1167.000000    409.000000       3.544600   \n",
       "75%        648.250000   1721.000000    605.250000       4.767000   \n",
       "max       6445.000000  35682.000000   6082.000000      15.000100   \n",
       "\n",
       "       median_house_value  \n",
       "count        17000.000000  \n",
       "mean        207300.912353  \n",
       "std         115983.764387  \n",
       "min          14999.000000  \n",
       "25%         119400.000000  \n",
       "50%         180400.000000  \n",
       "75%         265000.000000  \n",
       "max         500001.000000  "
      ]
     },
     "execution_count": 17,
     "metadata": {},
     "output_type": "execute_result"
    }
   ],
   "source": [
    "df.describe()"
   ]
  },
  {
   "cell_type": "markdown",
   "metadata": {
    "id": "tD2GkGJ8-Jvt"
   },
   "source": [
    "Finding the unique values in the total_bedroom column using the unique() method of DataFrame objects.\n",
    "Then using the size attribute of the numpy array returned from the unique method to find the number of unique values"
   ]
  },
  {
   "cell_type": "code",
   "execution_count": 18,
   "metadata": {
    "colab": {
     "base_uri": "https://localhost:8080/"
    },
    "id": "n_f198-93G9V",
    "outputId": "dd6a838a-6da8-4e58-de64-e1a99245ac8b"
   },
   "outputs": [
    {
     "name": "stdout",
     "output_type": "stream",
     "text": [
      "[1283. 1901.  174. ... 1637. 1308.  936.]\n",
      "1848\n"
     ]
    }
   ],
   "source": [
    "print(df.total_bedrooms.unique())\n",
    "print(df.total_bedrooms.unique().size)"
   ]
  },
  {
   "cell_type": "markdown",
   "metadata": {
    "id": "0Ihx9CM6-iVO"
   },
   "source": [
    "## Data Transformation"
   ]
  },
  {
   "cell_type": "markdown",
   "metadata": {
    "id": "EO8r83tw-nFv"
   },
   "source": [
    "Creating a new column called total_bedrooms_per_total_rooms"
   ]
  },
  {
   "cell_type": "code",
   "execution_count": 19,
   "metadata": {
    "colab": {
     "base_uri": "https://localhost:8080/"
    },
    "id": "5KYDZx9A5QJ1",
    "outputId": "38cf73e5-3f4b-41ef-d329-e5d9ec544b88"
   },
   "outputs": [
    {
     "name": "stdout",
     "output_type": "stream",
     "text": [
      "       longitude  latitude  housing_median_age  total_rooms  total_bedrooms  \\\n",
      "0        -114.31     34.19                15.0       5612.0          1283.0   \n",
      "1        -114.47     34.40                19.0       7650.0          1901.0   \n",
      "2        -114.56     33.69                17.0        720.0           174.0   \n",
      "3        -114.57     33.64                14.0       1501.0           337.0   \n",
      "4        -114.57     33.57                20.0       1454.0           326.0   \n",
      "...          ...       ...                 ...          ...             ...   \n",
      "16995    -124.26     40.58                52.0       2217.0           394.0   \n",
      "16996    -124.27     40.69                36.0       2349.0           528.0   \n",
      "16997    -124.30     41.84                17.0       2677.0           531.0   \n",
      "16998    -124.30     41.80                19.0       2672.0           552.0   \n",
      "16999    -124.35     40.54                52.0       1820.0           300.0   \n",
      "\n",
      "       population  households  median_income  median_house_value  \\\n",
      "0          1015.0       472.0         1.4936             66900.0   \n",
      "1          1129.0       463.0         1.8200             80100.0   \n",
      "2           333.0       117.0         1.6509             85700.0   \n",
      "3           515.0       226.0         3.1917             73400.0   \n",
      "4           624.0       262.0         1.9250             65500.0   \n",
      "...           ...         ...            ...                 ...   \n",
      "16995       907.0       369.0         2.3571            111400.0   \n",
      "16996      1194.0       465.0         2.5179             79000.0   \n",
      "16997      1244.0       456.0         3.0313            103600.0   \n",
      "16998      1298.0       478.0         1.9797             85800.0   \n",
      "16999       806.0       270.0         3.0147             94600.0   \n",
      "\n",
      "       total_bedrooms_per_total_rooms  \n",
      "0                            0.228617  \n",
      "1                            0.248497  \n",
      "2                            0.241667  \n",
      "3                            0.224517  \n",
      "4                            0.224209  \n",
      "...                               ...  \n",
      "16995                        0.177718  \n",
      "16996                        0.224777  \n",
      "16997                        0.198356  \n",
      "16998                        0.206587  \n",
      "16999                        0.164835  \n",
      "\n",
      "[17000 rows x 10 columns]\n"
     ]
    }
   ],
   "source": [
    "df['total_bedrooms_per_total_rooms'] = df['total_bedrooms']/df['total_rooms']\n",
    "print(df)"
   ]
  },
  {
   "cell_type": "markdown",
   "metadata": {
    "id": "RmOlUu6b-1fH"
   },
   "source": [
    "Finding the mean and the standard deviation of the newly made column"
   ]
  },
  {
   "cell_type": "code",
   "execution_count": 20,
   "metadata": {
    "colab": {
     "base_uri": "https://localhost:8080/"
    },
    "id": "2_mMKO34-wCY",
    "outputId": "38c2290b-201b-43e1-ae94-fe1eebaf3f6b"
   },
   "outputs": [
    {
     "name": "stdout",
     "output_type": "stream",
     "text": [
      "the mean of the new column is: 0.21275998821034803\n",
      "the standard deviation of the new column is: 0.05782300890316167\n"
     ]
    }
   ],
   "source": [
    "print('the mean of the new column is:',df['total_bedrooms_per_total_rooms'].mean())\n",
    "print('the standard deviation of the new column is:',df['total_bedrooms_per_total_rooms'].std())"
   ]
  },
  {
   "cell_type": "markdown",
   "metadata": {
    "id": "FfP0pQ_9-8WB"
   },
   "source": [
    "## Data Filtering"
   ]
  },
  {
   "cell_type": "markdown",
   "metadata": {
    "id": "L1MlKgQd_BOQ"
   },
   "source": [
    "Filtering the dataset based on the single condition on median_income"
   ]
  },
  {
   "cell_type": "code",
   "execution_count": 21,
   "metadata": {
    "colab": {
     "base_uri": "https://localhost:8080/"
    },
    "id": "fQiXCq085_jE",
    "outputId": "3d81976c-9aff-40fd-a1ff-19ea674d251a"
   },
   "outputs": [
    {
     "name": "stdout",
     "output_type": "stream",
     "text": [
      "       longitude  latitude  housing_median_age  total_rooms  total_bedrooms  \\\n",
      "32       -115.39     32.76                16.0       1136.0           196.0   \n",
      "69       -115.55     32.98                33.0       2266.0           365.0   \n",
      "92       -115.57     32.78                20.0       1534.0           235.0   \n",
      "98       -115.58     32.78                 5.0       2494.0           414.0   \n",
      "100      -115.59     32.79                 8.0       2183.0           307.0   \n",
      "...          ...       ...                 ...          ...             ...   \n",
      "16737    -122.89     38.38                16.0       2017.0           369.0   \n",
      "16762    -122.94     38.57                33.0       1530.0           266.0   \n",
      "16776    -123.00     38.33                 8.0       3223.0           637.0   \n",
      "16802    -123.17     39.18                14.0       2240.0           327.0   \n",
      "16899    -124.05     40.94                14.0       1452.0           217.0   \n",
      "\n",
      "       population  households  median_income  median_house_value  \\\n",
      "32          481.0       185.0         6.2558            146300.0   \n",
      "69          952.0       360.0         5.4349            143000.0   \n",
      "92          871.0       222.0         6.2715             97200.0   \n",
      "98         1416.0       421.0         5.7843            110100.0   \n",
      "100        1000.0       287.0         6.3814            159900.0   \n",
      "...           ...         ...            ...                 ...   \n",
      "16737       931.0       336.0         5.7664            267500.0   \n",
      "16762       728.0       250.0         5.1005            266700.0   \n",
      "16776       851.0       418.0         5.6445            364800.0   \n",
      "16802      1030.0       308.0         5.9585            214900.0   \n",
      "16899       516.0       181.0         5.0329            165600.0   \n",
      "\n",
      "       total_bedrooms_per_total_rooms  \n",
      "32                           0.172535  \n",
      "69                           0.161077  \n",
      "92                           0.153194  \n",
      "98                           0.165998  \n",
      "100                          0.140632  \n",
      "...                               ...  \n",
      "16737                        0.182945  \n",
      "16762                        0.173856  \n",
      "16776                        0.197642  \n",
      "16802                        0.145982  \n",
      "16899                        0.149449  \n",
      "\n",
      "[3752 rows x 10 columns]\n"
     ]
    }
   ],
   "source": [
    "print(df[df['median_income']>5])"
   ]
  },
  {
   "cell_type": "markdown",
   "metadata": {
    "id": "KNlSJ_ER_OIX"
   },
   "source": [
    "Creating a subset based on two conditions on the original dataset"
   ]
  },
  {
   "cell_type": "code",
   "execution_count": 22,
   "metadata": {
    "colab": {
     "base_uri": "https://localhost:8080/"
    },
    "id": "-bqxFrnI_JDC",
    "outputId": "6501f9ad-f6e9-4d4c-f5e4-4b520b52200c"
   },
   "outputs": [
    {
     "name": "stdout",
     "output_type": "stream",
     "text": [
      "       longitude  latitude  housing_median_age  total_rooms  total_bedrooms  \\\n",
      "133      -116.06     34.15                15.0      10377.0          2331.0   \n",
      "191      -116.36     33.88                11.0      12557.0          3098.0   \n",
      "198      -116.38     33.73                10.0      11836.0          2405.0   \n",
      "201      -116.39     33.82                15.0      11115.0          2257.0   \n",
      "229      -116.47     33.81                 7.0      10105.0          2481.0   \n",
      "...          ...       ...                 ...          ...             ...   \n",
      "12654    -121.75     38.67                 9.0      12139.0          2640.0   \n",
      "12772    -121.79     36.64                11.0      32627.0          6445.0   \n",
      "13388    -121.94     38.27                35.0      10869.0          2226.0   \n",
      "13707    -122.00     38.25                 7.0      11768.0          1893.0   \n",
      "15436    -122.31     40.55                11.0      13714.0          2302.0   \n",
      "\n",
      "       population  households  median_income  median_house_value  \\\n",
      "133        4507.0      1807.0         2.2466             66800.0   \n",
      "191        2453.0      1232.0         1.7844             78500.0   \n",
      "198        3811.0      1570.0         4.0079            134500.0   \n",
      "201        4122.0      1653.0         2.7219             74400.0   \n",
      "229        6274.0      2095.0         2.4497             90900.0   \n",
      "...           ...         ...            ...                 ...   \n",
      "12654      6837.0      2358.0         3.1250            132500.0   \n",
      "12772     28566.0      6082.0         2.3087            118800.0   \n",
      "13388      9879.0      2152.0         2.5681             81300.0   \n",
      "13707      6657.0      1874.0         4.9222            142900.0   \n",
      "15436      6511.0      2267.0         3.5522            100100.0   \n",
      "\n",
      "       total_bedrooms_per_total_rooms  \n",
      "133                          0.224631  \n",
      "191                          0.246715  \n",
      "198                          0.203194  \n",
      "201                          0.203059  \n",
      "229                          0.245522  \n",
      "...                               ...  \n",
      "12654                        0.217481  \n",
      "12772                        0.197536  \n",
      "13388                        0.204803  \n",
      "13707                        0.160860  \n",
      "15436                        0.167858  \n",
      "\n",
      "[67 rows x 10 columns]\n"
     ]
    }
   ],
   "source": [
    "df2 = df[(df['total_rooms']>10000) & (df['median_house_value']<150000)]\n",
    "print(df2)"
   ]
  },
  {
   "cell_type": "markdown",
   "metadata": {
    "id": "8iI65PlX_YCp"
   },
   "source": [
    "## Exporting Modified Data"
   ]
  },
  {
   "cell_type": "markdown",
   "metadata": {
    "id": "R7tf7fty_cpU"
   },
   "source": [
    "Exporting the modified DataFrame as a CSV file. Saved in the sample_data folder"
   ]
  },
  {
   "cell_type": "code",
   "execution_count": 23,
   "metadata": {
    "id": "G2iQbScM8Px8"
   },
   "outputs": [],
   "source": [
    "df.to_csv('sample-data/newhousingdata.csv')"
   ]
  },
  {
   "cell_type": "markdown",
   "metadata": {
    "id": "TdTLW-6AD2qM"
   },
   "source": [
    "# Part 2"
   ]
  },
  {
   "cell_type": "markdown",
   "metadata": {
    "id": "1oO8sq16E1ae"
   },
   "source": [
    "## Array Creation and Indexing"
   ]
  },
  {
   "cell_type": "markdown",
   "metadata": {
    "id": "Imz3qTC_E7g5"
   },
   "source": [
    "Using np.arange to generate ndarray of integers from 1 to 20"
   ]
  },
  {
   "cell_type": "code",
   "execution_count": 24,
   "metadata": {
    "colab": {
     "base_uri": "https://localhost:8080/"
    },
    "id": "TPAFDa_hEAYb",
    "outputId": "bdb2127b-fcb4-42f3-e173-e93a208248f3"
   },
   "outputs": [
    {
     "name": "stdout",
     "output_type": "stream",
     "text": [
      "[ 1  2  3  4  5  6  7  8  9 10 11 12 13 14 15 16 17 18 19 20]\n"
     ]
    }
   ],
   "source": [
    "arr = np.arange(1,21)\n",
    "print(arr)"
   ]
  },
  {
   "cell_type": "markdown",
   "metadata": {
    "id": "9BcyTpaDFCpX"
   },
   "source": [
    "Using slicing to get the even numbers"
   ]
  },
  {
   "cell_type": "code",
   "execution_count": 25,
   "metadata": {
    "colab": {
     "base_uri": "https://localhost:8080/"
    },
    "id": "f3h8W6f9ERWP",
    "outputId": "711faa76-e2c6-4ff3-a217-2b2a0735332f"
   },
   "outputs": [
    {
     "name": "stdout",
     "output_type": "stream",
     "text": [
      "[ 2  4  6  8 10 12 14 16 18 20]\n"
     ]
    }
   ],
   "source": [
    "print(arr[1::2])"
   ]
  },
  {
   "cell_type": "markdown",
   "metadata": {
    "id": "Z0qgdAzhiRfW"
   },
   "source": [
    "Creating an empty (5,4) array with the random.randint method"
   ]
  },
  {
   "cell_type": "code",
   "execution_count": 26,
   "metadata": {
    "colab": {
     "base_uri": "https://localhost:8080/"
    },
    "id": "QgFsClgqgfq8",
    "outputId": "4f9b5554-c9d5-430e-e5e2-20f1f4f85d38"
   },
   "outputs": [
    {
     "name": "stdout",
     "output_type": "stream",
     "text": [
      "[[35 97 25 49]\n",
      " [39 75 84 95]\n",
      " [36 22 80 22]\n",
      " [40 78 23 76]\n",
      " [87 47 18 96]]\n"
     ]
    }
   ],
   "source": [
    "arr1 = np.random.randint(10,100,(5,4),dtype = int)\n",
    "print(arr1)"
   ]
  },
  {
   "cell_type": "markdown",
   "metadata": {
    "id": "9mlgaS4Nim6G"
   },
   "source": [
    "Using slicing to get the required subset of the 5x4 array"
   ]
  },
  {
   "cell_type": "code",
   "execution_count": 27,
   "metadata": {
    "colab": {
     "base_uri": "https://localhost:8080/"
    },
    "id": "FvdXfNSuiCTY",
    "outputId": "5d34015a-a07b-4e13-a306-4e982edda4ea"
   },
   "outputs": [
    {
     "name": "stdout",
     "output_type": "stream",
     "text": [
      "[[35 97]\n",
      " [39 75]\n",
      " [36 22]]\n"
     ]
    }
   ],
   "source": [
    "arr2 = arr1[0:3,0:2]\n",
    "print(arr2)"
   ]
  },
  {
   "cell_type": "markdown",
   "metadata": {
    "id": "Y9SMoANCiyQP"
   },
   "source": [
    "## Array Manipulation"
   ]
  },
  {
   "cell_type": "markdown",
   "metadata": {
    "id": "fPElx0vztVV2"
   },
   "source": [
    "Using the numpy.reshape() method to reshape the earlier 1d array to a 2d array"
   ]
  },
  {
   "cell_type": "code",
   "execution_count": 28,
   "metadata": {
    "colab": {
     "base_uri": "https://localhost:8080/"
    },
    "id": "EYUYRe1hi3S0",
    "outputId": "26950fe5-8411-412f-f508-64bcb807d52c"
   },
   "outputs": [
    {
     "name": "stdout",
     "output_type": "stream",
     "text": [
      "[[ 1  2  3  4  5]\n",
      " [ 6  7  8  9 10]\n",
      " [11 12 13 14 15]\n",
      " [16 17 18 19 20]]\n"
     ]
    }
   ],
   "source": [
    "arr = np.reshape(arr,(4,5))\n",
    "print(arr)"
   ]
  },
  {
   "cell_type": "markdown",
   "metadata": {
    "id": "0Vj8UzmntlWi"
   },
   "source": [
    "Using the above method to do the reverse"
   ]
  },
  {
   "cell_type": "code",
   "execution_count": 29,
   "metadata": {
    "colab": {
     "base_uri": "https://localhost:8080/"
    },
    "id": "fDKqFWmgjNRq",
    "outputId": "046a9c83-a2ac-4cc8-c378-c516e59d063e"
   },
   "outputs": [
    {
     "name": "stdout",
     "output_type": "stream",
     "text": [
      "[35 97 25 49 39 75 84 95 36 22 80 22 40 78 23 76 87 47 18 96]\n"
     ]
    }
   ],
   "source": [
    "arr3 = np.reshape(arr1,(arr1.size))\n",
    "print(arr3)"
   ]
  },
  {
   "cell_type": "markdown",
   "metadata": {
    "id": "UrEVCgHOtwsi"
   },
   "source": [
    "Using the numpy.matmul() method to muliply 2 matrices(2d arrays)"
   ]
  },
  {
   "cell_type": "code",
   "execution_count": 30,
   "metadata": {
    "colab": {
     "base_uri": "https://localhost:8080/"
    },
    "id": "BfnAUAo2jhdf",
    "outputId": "3975d37f-e7b9-4b09-f4cf-0848c414cab9"
   },
   "outputs": [
    {
     "name": "stdout",
     "output_type": "stream",
     "text": [
      "[[13289  5362 12326  8444 12248]\n",
      " [22469  8014 15837 13143 18860]\n",
      " [12564  5104  5996  6542  9118]\n",
      " [15202  5358 13257 10069 13786]\n",
      " [18122  5883 13840 13182 15443]]\n"
     ]
    }
   ],
   "source": [
    "arr4 = np.random.randint(10,100,(4,5))\n",
    "\n",
    "arr5  = np.matmul(arr1,arr4)\n",
    "print(arr5)"
   ]
  },
  {
   "cell_type": "markdown",
   "metadata": {
    "id": "_6l_Bt8Dt6MU"
   },
   "source": [
    "## Boolean and Fancy Indexing"
   ]
  },
  {
   "cell_type": "markdown",
   "metadata": {
    "id": "Cgos4_TKuCry"
   },
   "source": [
    "Creating an array of 50 random integers\n",
    "Then using boolean indexing to obtain elements greater than 50.\n",
    "Then using fancy indexing to get specific indices from the array"
   ]
  },
  {
   "cell_type": "code",
   "execution_count": 31,
   "metadata": {
    "colab": {
     "base_uri": "https://localhost:8080/"
    },
    "id": "oWmLg_SFkZQn",
    "outputId": "5ed9cf67-6dae-45b3-b2e6-c55ec9b0014f"
   },
   "outputs": [
    {
     "name": "stdout",
     "output_type": "stream",
     "text": [
      "[ 2 74 15 77 74 13 37 19 56  1 34 43 66 73  1 47 34 87 22 46 19 94 22 87\n",
      " 60 81 75 63 21 97 57 98 69 11 31  8 79 74 81 17 55 21 42 59 16 94 32 25\n",
      " 97 32]\n",
      "[74 77 74 56 66 73 87 94 87 60 81 75 63 97 57 98 69 79 74 81 55 59 94 97]\n",
      "[74 77 74 13 37]\n"
     ]
    }
   ],
   "source": [
    "arr6 = np.random.randint(0,100,50)\n",
    "print(arr6)\n",
    "print(arr6[arr6>50])\n",
    "print(arr6[[1,3,4,5,6]])"
   ]
  },
  {
   "cell_type": "markdown",
   "metadata": {
    "id": "Rr5DCPc9uhZN"
   },
   "source": [
    "## Statistical Operations"
   ]
  },
  {
   "cell_type": "markdown",
   "metadata": {
    "id": "Mdx01S5Euq0z"
   },
   "source": [
    "Finding mean, max and the sum for each column using the respective method"
   ]
  },
  {
   "cell_type": "code",
   "execution_count": 32,
   "metadata": {
    "colab": {
     "base_uri": "https://localhost:8080/"
    },
    "id": "lKmoSjuAl4HL",
    "outputId": "cd171009-d3cd-4dd5-bf89-2ff2aa0f908a"
   },
   "outputs": [
    {
     "name": "stdout",
     "output_type": "stream",
     "text": [
      "The mean for each column is:  [47.4 63.8 46.  67.6]\n",
      "The max value for each column is:  [87 97 84 96]\n",
      "The sum for each column is:  [237 319 230 338]\n"
     ]
    }
   ],
   "source": [
    "x=np.mean(arr1,axis = 0)\n",
    "print('The mean for each column is: ',x)\n",
    "print('The max value for each column is: ',np.max(arr1,axis = 0))\n",
    "print('The sum for each column is: ',np.sum(arr1,axis = 0))"
   ]
  },
  {
   "cell_type": "markdown",
   "metadata": {
    "id": "LS9wJ_Xxu4Kp"
   },
   "source": [
    "Creating a mask and then applying that mask to arr1"
   ]
  },
  {
   "cell_type": "code",
   "execution_count": 33,
   "metadata": {
    "colab": {
     "base_uri": "https://localhost:8080/"
    },
    "id": "FCylFV_Tmvdf",
    "outputId": "6abc1bf6-2f19-4df4-99b7-0a4e4a76d953"
   },
   "outputs": [
    {
     "name": "stdout",
     "output_type": "stream",
     "text": [
      "[97 75 84 95 80 78 76 87 96]\n"
     ]
    }
   ],
   "source": [
    "mask = arr1>x\n",
    "print(arr1[mask])"
   ]
  },
  {
   "cell_type": "markdown",
   "metadata": {
    "id": "LpBytDq4VQpF"
   },
   "source": [
    "# Part 3"
   ]
  },
  {
   "cell_type": "markdown",
   "metadata": {
    "id": "4xKmqWhLdYdZ"
   },
   "source": [
    "## Loops and Conditional statements"
   ]
  },
  {
   "cell_type": "markdown",
   "metadata": {
    "id": "mj0ZZc24ddmp"
   },
   "source": [
    "Fibbonacci series using while loop and using the old value of a to add to the current value of a to get the new value for the fibbonacci series"
   ]
  },
  {
   "cell_type": "code",
   "execution_count": 34,
   "metadata": {
    "colab": {
     "base_uri": "https://localhost:8080/"
    },
    "id": "huOqDLJwVTv3",
    "outputId": "2c5aef98-75c4-4227-88d6-3e1064448700"
   },
   "outputs": [
    {
     "name": "stdout",
     "output_type": "stream",
     "text": [
      "0\n",
      "1\n",
      "2\n",
      "3\n",
      "5\n",
      "8\n",
      "13\n",
      "21\n",
      "34\n",
      "55\n",
      "89\n"
     ]
    }
   ],
   "source": [
    "a = 0\n",
    "b = 1\n",
    "while(a<=100):\n",
    "  print(a)\n",
    "  temp = a\n",
    "  a += b\n",
    "  if(temp!=0):\n",
    "    b = temp"
   ]
  },
  {
   "cell_type": "markdown",
   "metadata": {
    "id": "lG435RcTdxUr"
   },
   "source": [
    "FizzBuzz by manipulating the end parameter of the print function"
   ]
  },
  {
   "cell_type": "code",
   "execution_count": 35,
   "metadata": {
    "colab": {
     "base_uri": "https://localhost:8080/"
    },
    "id": "qQukdTKRWYj8",
    "outputId": "94c27c7a-67cc-4b17-98a3-6d18bde496ea"
   },
   "outputs": [
    {
     "name": "stdout",
     "output_type": "stream",
     "text": [
      "1\n",
      "2\n",
      "Fizz\n",
      "4\n",
      "Buzz\n",
      "Fizz\n",
      "7\n",
      "8\n",
      "Fizz\n",
      "Buzz\n",
      "11\n",
      "Fizz\n",
      "13\n",
      "14\n",
      "FizzBuzz\n",
      "16\n",
      "17\n",
      "Fizz\n",
      "19\n",
      "Buzz\n",
      "Fizz\n",
      "22\n",
      "23\n",
      "Fizz\n",
      "Buzz\n",
      "26\n",
      "Fizz\n",
      "28\n",
      "29\n",
      "FizzBuzz\n",
      "31\n",
      "32\n",
      "Fizz\n",
      "34\n",
      "Buzz\n",
      "Fizz\n",
      "37\n",
      "38\n",
      "Fizz\n",
      "Buzz\n",
      "41\n",
      "Fizz\n",
      "43\n",
      "44\n",
      "FizzBuzz\n",
      "46\n",
      "47\n",
      "Fizz\n",
      "49\n",
      "Buzz\n"
     ]
    }
   ],
   "source": [
    "\n",
    "for i in range(1,51):\n",
    "  c=0\n",
    "  if(i%3==0):\n",
    "    print('Fizz',end = '')\n",
    "    c=1\n",
    "  if(i%5==0):\n",
    "    print('Buzz',end='' )\n",
    "    c=1\n",
    "  if(c==0):\n",
    "    print(i)\n",
    "  else:\n",
    "    print()"
   ]
  },
  {
   "cell_type": "markdown",
   "metadata": {
    "id": "bNom5iC2d4Mw"
   },
   "source": [
    "## Variable-Length Arguments"
   ]
  },
  {
   "cell_type": "markdown",
   "metadata": {
    "id": "qlSsqjdqd_lj"
   },
   "source": [
    "First taking input as a string and then splitting it to form a list of characters. Converting it all into integers using a for loop. Using the numpy method, median(), to get the median"
   ]
  },
  {
   "cell_type": "code",
   "execution_count": 36,
   "metadata": {
    "id": "JcL0rDOxZE8x"
   },
   "outputs": [
    {
     "name": "stdout",
     "output_type": "stream",
     "text": [
      "The median is:  2.5\n"
     ]
    }
   ],
   "source": [
    "str = input(\"Enter numbers seperated by spaces: \")\n",
    "l = str.split()\n",
    "for x in l:\n",
    "  l[l.index(x)] = int(x)\n",
    "u = np.median(l)\n",
    "print(\"The median is: \", u)"
   ]
  },
  {
   "cell_type": "markdown",
   "metadata": {
    "id": "xuasuuwQeUDw"
   },
   "source": [
    "First taking the number of numbers from the user. Then using a for loop to get each of the numbers. Using the numpy method, mean(), to get the mean"
   ]
  },
  {
   "cell_type": "code",
   "execution_count": 37,
   "metadata": {
    "id": "8h3uadfdcpe2"
   },
   "outputs": [
    {
     "name": "stdout",
     "output_type": "stream",
     "text": [
      "2.0\n"
     ]
    }
   ],
   "source": [
    "n = int(input(\"enter number of numbers \"))\n",
    "l=[]\n",
    "for i in range(0 ,n):\n",
    "  l.append(int(input(\"enter number: \")))\n",
    "print(np.mean(l))"
   ]
  },
  {
   "cell_type": "markdown",
   "metadata": {
    "id": "8taNwCIBewbO"
   },
   "source": [
    "## Error Handling"
   ]
  },
  {
   "cell_type": "markdown",
   "metadata": {
    "id": "c00jvb7Oe0Kj"
   },
   "source": [
    "The try block is executed first. If an exception is encountered then the except block is executed from that point on in stead of the rest of the try block"
   ]
  },
  {
   "cell_type": "code",
   "execution_count": 38,
   "metadata": {
    "id": "wMy9JRxTdEl5"
   },
   "outputs": [
    {
     "name": "stdout",
     "output_type": "stream",
     "text": [
      "33.333333333333336\n"
     ]
    }
   ],
   "source": [
    "try:\n",
    "  n = int(input(\"Enter a number: \"))\n",
    "  print(100/n)\n",
    "except:\n",
    "  print(\"cannot divide by zero\")"
   ]
  },
  {
   "cell_type": "markdown",
   "metadata": {
    "id": "36-llYMFpcBB"
   },
   "source": [
    "# Part 4"
   ]
  },
  {
   "cell_type": "markdown",
   "metadata": {
    "id": "KH63yxjvwUdj"
   },
   "source": [
    "Creating a 3d array from the randint function of numpy.random"
   ]
  },
  {
   "cell_type": "code",
   "execution_count": 39,
   "metadata": {
    "id": "We5OPqRGphOM"
   },
   "outputs": [
    {
     "name": "stdout",
     "output_type": "stream",
     "text": [
      "[[[93 22 27]\n",
      "  [47 65 92]\n",
      "  [77 69 64]]\n",
      "\n",
      " [[68 58 11]\n",
      "  [37 40 55]\n",
      "  [76 23 85]]\n",
      "\n",
      " [[58 30 32]\n",
      "  [37 26 38]\n",
      "  [90 85 19]]]\n"
     ]
    }
   ],
   "source": [
    "threeDarr = np.random.randint(1,100,(3,3,3))\n",
    "print(threeDarr)"
   ]
  },
  {
   "cell_type": "markdown",
   "metadata": {
    "id": "RBZgll3vwh3J"
   },
   "source": [
    "Swapping 2 axes of the 3d array"
   ]
  },
  {
   "cell_type": "code",
   "execution_count": 40,
   "metadata": {
    "id": "Q7cqYPviqDW1"
   },
   "outputs": [
    {
     "name": "stdout",
     "output_type": "stream",
     "text": [
      "[[[93 22 27]\n",
      "  [68 58 11]\n",
      "  [58 30 32]]\n",
      "\n",
      " [[47 65 92]\n",
      "  [37 40 55]\n",
      "  [37 26 38]]\n",
      "\n",
      " [[77 69 64]\n",
      "  [76 23 85]\n",
      "  [90 85 19]]]\n"
     ]
    }
   ],
   "source": [
    "thrDarr = threeDarr.swapaxes(0,1)\n",
    "print(thrDarr)"
   ]
  },
  {
   "cell_type": "markdown",
   "metadata": {
    "id": "ao4XDSYRwmzk"
   },
   "source": [
    "Finding sum along one of the axes.\n",
    "For element theDarr[a][b][c]\n",
    "1.   Axis 0 means it finds sum of all elements by changing a first before b and c\n",
    "2.   Axis 1 means it finds sum of all elements by changing b first before c and c\n",
    "3.   Axis 2 means it finds sum of all elements by changing c first before a and b\n",
    "\n",
    "\n"
   ]
  },
  {
   "cell_type": "code",
   "execution_count": 41,
   "metadata": {
    "id": "ruZ8flIbzFeW"
   },
   "outputs": [
    {
     "name": "stdout",
     "output_type": "stream",
     "text": [
      "[[217 156 183]\n",
      " [181 121 151]\n",
      " [185 141  89]]\n"
     ]
    }
   ],
   "source": [
    "print(thrDarr.sum(axis = 0))"
   ]
  },
  {
   "cell_type": "markdown",
   "metadata": {
    "id": "QmhLt82kxkJM"
   },
   "source": [
    "Adding a vector to each row of the arr1 matrix created in part 2 by broadcasting it"
   ]
  },
  {
   "cell_type": "code",
   "execution_count": 42,
   "metadata": {
    "id": "9jMXq8jXi1Q4"
   },
   "outputs": [
    {
     "name": "stdout",
     "output_type": "stream",
     "text": [
      "[[ 76 169  27 148]\n",
      " [ 80 147  86 194]\n",
      " [ 77  94  82 121]\n",
      " [ 81 150  25 175]\n",
      " [128 119  20 195]]\n"
     ]
    }
   ],
   "source": [
    "l = np.random.randint(0,100,4)\n",
    "print(l+arr1)"
   ]
  }
 ],
 "metadata": {
  "colab": {
   "collapsed_sections": [
    "45XA-eoBfqk4",
    "RW689xW79f2t",
    "hk5PHYtu96IE",
    "0Ihx9CM6-iVO",
    "FfP0pQ_9-8WB",
    "8iI65PlX_YCp",
    "TdTLW-6AD2qM",
    "1oO8sq16E1ae",
    "Y9SMoANCiyQP",
    "_6l_Bt8Dt6MU",
    "Rr5DCPc9uhZN",
    "LpBytDq4VQpF",
    "4xKmqWhLdYdZ",
    "bNom5iC2d4Mw",
    "8taNwCIBewbO"
   ],
   "provenance": []
  },
  "kernelspec": {
   "display_name": "Python 3",
   "name": "python3"
  },
  "language_info": {
   "codemirror_mode": {
    "name": "ipython",
    "version": 3
   },
   "file_extension": ".py",
   "mimetype": "text/x-python",
   "name": "python",
   "nbconvert_exporter": "python",
   "pygments_lexer": "ipython3",
   "version": "3.12.5"
  }
 },
 "nbformat": 4,
 "nbformat_minor": 0
}
